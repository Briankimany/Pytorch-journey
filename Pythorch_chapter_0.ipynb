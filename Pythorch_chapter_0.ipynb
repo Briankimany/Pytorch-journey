{
  "cells": [
    {
      "cell_type": "code",
      "execution_count": 1,
      "metadata": {
        "id": "Q7RSe6KDa3GX"
      },
      "outputs": [],
      "source": [
        "import torch"
      ]
    },
    {
      "cell_type": "code",
      "execution_count": null,
      "metadata": {
        "colab": {
          "base_uri": "https://localhost:8080/"
        },
        "id": "FgBnUsFobGJ4",
        "outputId": "a9db895e-a5ea-4c25-a4b0-f30638aeb2a8"
      },
      "outputs": [
        {
          "name": "stdout",
          "output_type": "stream",
          "text": [
            "2.1.0+cu121\n"
          ]
        }
      ],
      "source": [
        "print(torch.__version__)"
      ]
    },
    {
      "cell_type": "code",
      "execution_count": null,
      "metadata": {
        "colab": {
          "base_uri": "https://localhost:8080/"
        },
        "id": "kNwqkaq9bIlW",
        "outputId": "d8a89662-cd87-4a32-b6d1-2e230c7112a7"
      },
      "outputs": [
        {
          "name": "stdout",
          "output_type": "stream",
          "text": [
            "7\n",
            "1\n"
          ]
        }
      ],
      "source": [
        "scalar = torch.tensor(7)\n",
        "#get tensor as python int\n",
        "print(scalar.item())\n",
        "\n",
        "vector = torch.tensor(([3 , 4, 5]))\n",
        "print(vector.ndim)"
      ]
    },
    {
      "cell_type": "code",
      "execution_count": null,
      "metadata": {
        "colab": {
          "base_uri": "https://localhost:8080/"
        },
        "id": "T_c1fVo7bcgh",
        "outputId": "bd0333ca-5061-4499-b256-0b8551fc85c5"
      },
      "outputs": [
        {
          "name": "stdout",
          "output_type": "stream",
          "text": [
            "2\n",
            "torch.Size([3, 2])\n"
          ]
        }
      ],
      "source": [
        "MATRIX  = torch.tensor([\n",
        "    [2 , 3 ],\n",
        "    [3 , 4],\n",
        "    [9 , 6]\n",
        "\n",
        "])\n",
        "print(MATRIX.ndim)\n",
        "print(MATRIX.shape)"
      ]
    },
    {
      "cell_type": "code",
      "execution_count": null,
      "metadata": {
        "colab": {
          "base_uri": "https://localhost:8080/"
        },
        "id": "T-ih_diwbhM5",
        "outputId": "84e52426-4698-43ea-bd78-8075a8448e11"
      },
      "outputs": [
        {
          "name": "stdout",
          "output_type": "stream",
          "text": [
            "torch.Size([3, 3, 2])\n",
            "3\n"
          ]
        }
      ],
      "source": [
        "TENSOR = torch.tensor(\n",
        "    [\n",
        "        [\n",
        "            [2 ,1],\n",
        "            [0 ,1],\n",
        "            [0 ,1]\n",
        "\n",
        "         ],\n",
        "\n",
        "          [\n",
        "            [2 ,1],\n",
        "            [0 ,1],\n",
        "            [0 ,1]\n",
        "\n",
        "         ],\n",
        "          [\n",
        "            [2 ,1],\n",
        "            [0 ,1],\n",
        "            [0 ,1]\n",
        "\n",
        "         ]\n",
        "\n",
        "\n",
        "     ]\n",
        "\n",
        ")\n",
        "print(TENSOR.shape)\n",
        "print(TENSOR.ndim)"
      ]
    },
    {
      "cell_type": "markdown",
      "metadata": {
        "id": "IRlyUfY4dgs7"
      },
      "source": [
        "### RANDOM TENSORS\n",
        "\n",
        "##### TIME STAMP 1:45.28"
      ]
    },
    {
      "cell_type": "code",
      "execution_count": null,
      "metadata": {
        "colab": {
          "base_uri": "https://localhost:8080/"
        },
        "id": "RhMyXQ7KfNBA",
        "outputId": "4daa2c6f-2119-4736-b60d-147efafadc46"
      },
      "outputs": [
        {
          "name": "stdout",
          "output_type": "stream",
          "text": [
            "torch.Size([100, 100, 3])\n"
          ]
        }
      ],
      "source": [
        "random_tensor = torch.rand( 100, 100, 3)\n",
        "print(random_tensor.shape)"
      ]
    },
    {
      "cell_type": "markdown",
      "metadata": {
        "id": "BSuut4yxfNEW"
      },
      "source": [
        "import matplotlib.pyplot as plt\n",
        "\n",
        "plt.figure()\n",
        "\n",
        "plt.imshow(random_tensor)\n",
        "\n",
        "plt.show()"
      ]
    },
    {
      "cell_type": "markdown",
      "metadata": {
        "id": "j7L0hrWdfY8Y"
      },
      "source": [
        "#### TIME 1:46:46\n",
        "#### ZEROS AND ONES"
      ]
    },
    {
      "cell_type": "code",
      "execution_count": null,
      "metadata": {
        "colab": {
          "base_uri": "https://localhost:8080/"
        },
        "id": "hqe6_lRgfNIk",
        "outputId": "8bb34fa0-d2ca-490b-8e67-46caab037415"
      },
      "outputs": [
        {
          "name": "stdout",
          "output_type": "stream",
          "text": [
            "torch.Size([3, 4]) torch.Size([4, 3])\n",
            "tensor([[0., 0., 0.],\n",
            "        [0., 0., 0.],\n",
            "        [0., 0., 0.]])\n"
          ]
        }
      ],
      "source": [
        "### recap of matrix multiplication\n",
        "\n",
        "zeros = torch.zeros(size = ( 3 , 4) )\n",
        "ones = torch.ones(size = (4 , 3))\n",
        "print(zeros.shape , ones.shape)\n",
        "results2 = torch.mm(zeros , ones)\n",
        "print(results2)"
      ]
    },
    {
      "cell_type": "markdown",
      "metadata": {
        "id": "YdwQYRUbfNS8"
      },
      "source": [
        "### Range tensors\n",
        "\n",
        "torch.arange(1, 10)"
      ]
    },
    {
      "cell_type": "code",
      "execution_count": null,
      "metadata": {
        "colab": {
          "base_uri": "https://localhost:8080/"
        },
        "id": "E9sGC2e7fNXm",
        "outputId": "5cd8aae4-11ce-4aec-ea69-9021f9f7d3a7"
      },
      "outputs": [
        {
          "name": "stdout",
          "output_type": "stream",
          "text": [
            "19\n"
          ]
        }
      ],
      "source": [
        "#rgb\n",
        "start = 200\n",
        "end = 255\n",
        "step = abs((start- end)//3)\n",
        "print(step)\n",
        "\n",
        "r = torch.arange(start = start , end = end , step = step)\n",
        "g = torch.arange(start = start , end = end , step = step)\n",
        "b = torch.arange(start = start , end = end , step = step)"
      ]
    },
    {
      "cell_type": "markdown",
      "metadata": {
        "id": "q14ssCKofNau"
      },
      "source": [
        "## tensors like"
      ]
    },
    {
      "cell_type": "code",
      "execution_count": null,
      "metadata": {
        "id": "E4RMLYQ4fNgQ"
      },
      "outputs": [],
      "source": [
        "r_like = torch.zeros_like(input= r)\n",
        "g_like = torch.ones_like(input= g)\n",
        "b_like = torch.ones_like(input= b)"
      ]
    },
    {
      "cell_type": "code",
      "execution_count": null,
      "metadata": {
        "colab": {
          "base_uri": "https://localhost:8080/"
        },
        "id": "PEuWeFssfNjk",
        "outputId": "09095329-c60d-428a-b7e3-cc5520d0507e"
      },
      "outputs": [
        {
          "data": {
            "text/plain": [
              "(tensor([0, 0, 0]), tensor([1, 1, 1]))"
            ]
          },
          "execution_count": 59,
          "metadata": {},
          "output_type": "execute_result"
        }
      ],
      "source": [
        "r_like , g_like"
      ]
    },
    {
      "cell_type": "markdown",
      "metadata": {
        "id": "AM4nRAMkfNnC"
      },
      "source": [
        "### Tensor dtypes\n",
        "\n",
        "**Note**\n",
        "device = cpu ,cuda\n",
        "\n",
        "source : https://github.com/mrdbourke/pytorch-deep-learning/blob/main/00_pytorch_fundamentals.ipynb"
      ]
    },
    {
      "cell_type": "code",
      "execution_count": null,
      "metadata": {
        "colab": {
          "base_uri": "https://localhost:8080/"
        },
        "id": "g3CfEiFkfNqa",
        "outputId": "f7863cdf-9ffd-48b8-f7ee-1b4be4442dae"
      },
      "outputs": [
        {
          "name": "stdout",
          "output_type": "stream",
          "text": [
            "-1\n"
          ]
        }
      ],
      "source": [
        "\n",
        "\n",
        "ten_16 = torch.tensor(data = list(r_like) , dtype = torch.float16 , device =  None , requires_grad = False)\n",
        "ten_32 = ten_16.type(torch.float32)\n",
        "ten_64 = ten_16.type(torch.float64)\n",
        "ten_64_cuda = ten_64.to('cpu')\n",
        "print(ten_64.get_device())\n"
      ]
    },
    {
      "cell_type": "markdown",
      "metadata": {
        "id": "e04V0F0kp3wI"
      },
      "source": [
        "#### Tensor manipulation"
      ]
    },
    {
      "cell_type": "markdown",
      "metadata": {
        "id": "hPJx5iVbtXAP"
      },
      "source": [
        "Operation:\n",
        "\n",
        "* Addition\n",
        "\n",
        "* subtraction\n",
        "\n",
        "* Element wise multiplication\n",
        "\n",
        "* Matrix multiplication"
      ]
    },
    {
      "cell_type": "code",
      "execution_count": null,
      "metadata": {
        "colab": {
          "base_uri": "https://localhost:8080/"
        },
        "id": "U5FefHYTv5bD",
        "outputId": "1e2a53cd-5c73-4de9-c130-dad6bd745463"
      },
      "outputs": [
        {
          "data": {
            "text/plain": [
              "tensor([5, 7, 9])"
            ]
          },
          "execution_count": 87,
          "metadata": {},
          "output_type": "execute_result"
        }
      ],
      "source": [
        "### ADDING\n",
        "tensor_1 = torch.tensor([1 , 2 , 3])\n",
        "tensor_2 = torch.tensor([4 , 5 , 6])\n",
        "\n",
        "print(tensor_1 + 10)\n",
        "tensor_1 + tensor_2\n"
      ]
    },
    {
      "cell_type": "code",
      "execution_count": null,
      "metadata": {
        "colab": {
          "base_uri": "https://localhost:8080/"
        },
        "id": "iKyyMwoowCpW",
        "outputId": "26a4c4ce-dbe4-4a37-d067-639450896b7f"
      },
      "outputs": [
        {
          "data": {
            "text/plain": [
              "tensor([-3, -3, -3])"
            ]
          },
          "execution_count": 90,
          "metadata": {},
          "output_type": "execute_result"
        }
      ],
      "source": [
        "### subtraction\n",
        "tensor_1 - tensor_2"
      ]
    },
    {
      "cell_type": "code",
      "execution_count": null,
      "metadata": {
        "colab": {
          "base_uri": "https://localhost:8080/"
        },
        "id": "T0EmsGM0w9iu",
        "outputId": "9b60071d-01e8-4de6-8bbb-aa31549f52db"
      },
      "outputs": [
        {
          "data": {
            "text/plain": [
              "tensor([ 4, 10, 18])"
            ]
          },
          "execution_count": 91,
          "metadata": {},
          "output_type": "execute_result"
        }
      ],
      "source": [
        "### multiplication elemnt wise\n",
        "tensor_1 * tensor_2"
      ]
    },
    {
      "cell_type": "markdown",
      "metadata": {
        "id": "2RLQjyjFxrMP"
      },
      "source": [
        "### Matrix multiplication//Dot procuct"
      ]
    },
    {
      "cell_type": "code",
      "execution_count": null,
      "metadata": {
        "colab": {
          "base_uri": "https://localhost:8080/"
        },
        "id": "jGCiHroWxwJn",
        "outputId": "344a3097-c2c7-4bab-8db8-ce62e00febc6"
      },
      "outputs": [
        {
          "data": {
            "text/plain": [
              "(tensor([1, 2, 3]), tensor([4, 5, 6]))"
            ]
          },
          "execution_count": 93,
          "metadata": {},
          "output_type": "execute_result"
        }
      ],
      "source": [
        "  tensor_1 , tensor_2"
      ]
    },
    {
      "cell_type": "code",
      "execution_count": null,
      "metadata": {
        "colab": {
          "base_uri": "https://localhost:8080/"
        },
        "id": "N5-4jXmyzwFW",
        "outputId": "2c37e32d-b553-4f8d-c294-5897c7d7be40"
      },
      "outputs": [
        {
          "name": "stdout",
          "output_type": "stream",
          "text": [
            " tensor([ 4, 10, 18]) 32\n",
            "CPU times: user 939 µs, sys: 802 µs, total: 1.74 ms\n",
            "Wall time: 1.69 ms\n"
          ]
        }
      ],
      "source": [
        "%%time\n",
        "final_tensor = torch.zeros_like(tensor_1)\n",
        "for i in range(len(list(tensor_1))):\n",
        "  num_1 , num_2 = tensor_1[i] , tensor_2[i]\n",
        "  final_tensor[i] = num_1 * num_2\n",
        "\n",
        "print(f\" {final_tensor} {sum(final_tensor)}\")\n",
        "\n",
        "\n",
        "\n"
      ]
    },
    {
      "cell_type": "code",
      "execution_count": null,
      "metadata": {
        "colab": {
          "base_uri": "https://localhost:8080/"
        },
        "id": "jfp2vijy0QOw",
        "outputId": "561e2b72-1048-426e-c941-bed7908c2adf"
      },
      "outputs": [
        {
          "name": "stdout",
          "output_type": "stream",
          "text": [
            "tensor(32)\n",
            "CPU times: user 1.02 ms, sys: 2 µs, total: 1.03 ms\n",
            "Wall time: 1.03 ms\n"
          ]
        }
      ],
      "source": [
        "%%time\n",
        "print(torch.matmul(tensor_1 , tensor_2))"
      ]
    },
    {
      "cell_type": "markdown",
      "metadata": {
        "id": "63cfzPfJ19G3"
      },
      "source": [
        "### steps for matrix mmultiplication\n",
        "\n",
        "* Take the row for the matrix being multiplied\n",
        "* Multipli each element in the row to each\n",
        "* column  value in matrix 1\n",
        "* find the sum and assing it the the n cordinate * index of the result matrix  \n"
      ]
    },
    {
      "cell_type": "code",
      "execution_count": null,
      "metadata": {
        "colab": {
          "base_uri": "https://localhost:8080/"
        },
        "id": "8E_b0qVB5a-P",
        "outputId": "b31d4c08-5bd5-4cd4-c275-91f6b83a69b6"
      },
      "outputs": [
        {
          "name": "stdout",
          "output_type": "stream",
          "text": [
            "Transposed the tensor\n",
            "Result is tensor([[0.3889, 0.3608, 0.2964],\n",
            "        [0.0915, 0.0833, 0.0661],\n",
            "        [0.6541, 0.5234, 0.2974]]) , torch.Size([3, 3])\n"
          ]
        }
      ],
      "source": [
        "tensor_1 , tensor_2 = torch.rand(3 , 2) , torch.rand(3 , 2)\n",
        "result_matrix = tensor_1.shape[-1] , tensor_2.shape[-1]\n",
        "\n",
        "if tensor_1.shape[-1] != tensor_2.shape[0]:\n",
        "  print(\"Transposed the tensor\")\n",
        "  res = torch.matmul(tensor_1 , tensor_2.T)\n",
        "else:\n",
        "  res = torch.matmul(tensor_1 , tensor_2)\n",
        "\n",
        "print(f\"Result is {res} , {res.shape}\")"
      ]
    },
    {
      "cell_type": "markdown",
      "metadata": {
        "id": "uYZsyVfh6fyt"
      },
      "source": [
        "### max , min , sum , mean , etc(tensor aggregation)"
      ]
    },
    {
      "cell_type": "code",
      "execution_count": null,
      "metadata": {
        "colab": {
          "base_uri": "https://localhost:8080/"
        },
        "id": "Za5_OKYj-ZF9",
        "outputId": "6083c2f6-376f-4b5d-c275-87463e6694cc"
      },
      "outputs": [
        {
          "name": "stdout",
          "output_type": "stream",
          "text": [
            "tensor(10)\n",
            "tensor(1)\n",
            "tensor(5.5000)\n",
            "tensor(55)\n"
          ]
        }
      ],
      "source": [
        "x = torch.arange(1 , 11 , 1)\n",
        "\n",
        "## max\n",
        "print(x.max())\n",
        "\n",
        "## min\n",
        "print(x.min())\n",
        "\n",
        "## mean\n",
        "print(x.type(torch.float32).mean())\n",
        "\n",
        "## sum\n",
        "\n",
        "print(x.sum())"
      ]
    },
    {
      "cell_type": "code",
      "execution_count": null,
      "metadata": {
        "colab": {
          "base_uri": "https://localhost:8080/"
        },
        "id": "AZMaLZ6D-m75",
        "outputId": "75d892f5-f0c7-4073-fcc1-5405f7f9642c"
      },
      "outputs": [
        {
          "name": "stdout",
          "output_type": "stream",
          "text": [
            "Min num index 0\n",
            "Mux num index 1\n"
          ]
        }
      ],
      "source": [
        "x = torch.rand(10)\n",
        "## finding positional mean and max\n",
        "print(f\"Min num index {x.argmin()}\")\n",
        "\n",
        "##finding the max number index\n",
        "print(f\"Mux num index {x.argmax()}\")"
      ]
    },
    {
      "cell_type": "markdown",
      "metadata": {
        "id": "_mpYDumJAiKY"
      },
      "source": [
        "## reshaping ,stacking and squeezing  and unsqueezing"
      ]
    },
    {
      "cell_type": "code",
      "execution_count": null,
      "metadata": {
        "id": "-khVbRijBZn8"
      },
      "outputs": [],
      "source": [
        "x = torch.arange(1 , 10 , 1)\n"
      ]
    },
    {
      "cell_type": "code",
      "execution_count": null,
      "metadata": {
        "colab": {
          "base_uri": "https://localhost:8080/"
        },
        "id": "h_TCWp0lCfPB",
        "outputId": "2dc8b296-5f05-4711-f915-d6905dd38775"
      },
      "outputs": [
        {
          "name": "stdout",
          "output_type": "stream",
          "text": [
            "tensor([1, 2, 3, 4, 5, 6, 7, 8, 9]) torch.Size([9])\n"
          ]
        },
        {
          "data": {
            "text/plain": [
              "tensor([[1],\n",
              "        [2],\n",
              "        [3],\n",
              "        [4],\n",
              "        [5],\n",
              "        [6],\n",
              "        [7],\n",
              "        [8],\n",
              "        [9]])"
            ]
          },
          "execution_count": 142,
          "metadata": {},
          "output_type": "execute_result"
        }
      ],
      "source": [
        "### reshape\n",
        "print(x , x.shape)\n",
        "x_reshaped = x.reshape(9 , 1)\n",
        "x_reshaped"
      ]
    },
    {
      "cell_type": "code",
      "execution_count": null,
      "metadata": {
        "colab": {
          "base_uri": "https://localhost:8080/"
        },
        "id": "Esg7YMqFC59D",
        "outputId": "17fa3da0-828e-4dee-bb94-3a84338ffe56"
      },
      "outputs": [
        {
          "data": {
            "text/plain": [
              "tensor([1, 2, 3, 4, 5, 6, 7, 8, 1])"
            ]
          },
          "execution_count": 149,
          "metadata": {},
          "output_type": "execute_result"
        }
      ],
      "source": [
        "### view\n",
        "##view of a tebsor shares the same memory of a tensor\n",
        "z = x.view(3 , 3)\n",
        "z[2,-1] = 1\n",
        "x\n"
      ]
    },
    {
      "cell_type": "code",
      "execution_count": null,
      "metadata": {
        "colab": {
          "base_uri": "https://localhost:8080/"
        },
        "id": "sRA4hiTyEDRX",
        "outputId": "1a824c53-8778-4fa0-b487-0fe2e64edb88"
      },
      "outputs": [
        {
          "name": "stdout",
          "output_type": "stream",
          "text": [
            "Originaal x tensor([[1, 2, 3],\n",
            "        [4, 5, 6],\n",
            "        [7, 8, 1]])\n",
            "\n",
            "stacked x tensor([[[1, 2, 3],\n",
            "         [4, 5, 6],\n",
            "         [7, 8, 1]],\n",
            "\n",
            "        [[1, 2, 3],\n",
            "         [4, 5, 6],\n",
            "         [7, 8, 1]]])\n",
            "\n",
            "Differnt shapes x-shape torch.Size([3, 3])\n",
            "X-stacked shape torch.Size([2, 3, 3])\n"
          ]
        }
      ],
      "source": [
        "## stacking\n",
        "x = x.reshape(3 , 3)\n",
        "x_stacked = torch.stack([x , x] , dim=0)\n",
        "\n",
        "print(f\"Originaal x {x}\\n\")\n",
        "print(f\"stacked x {x_stacked}\\n\")\n",
        "print(f\"Differnt shapes x-shape {x.shape}\\nX-stacked shape {x_stacked.shape}\")"
      ]
    },
    {
      "cell_type": "code",
      "execution_count": null,
      "metadata": {
        "id": "TacmcwoSHcAt"
      },
      "outputs": [],
      "source": [
        "\n"
      ]
    },
    {
      "cell_type": "code",
      "execution_count": null,
      "metadata": {
        "colab": {
          "base_uri": "https://localhost:8080/"
        },
        "id": "tMMpu_i0HcDv",
        "outputId": "c1aea8a7-557c-4d69-dcd4-05f33d808e60"
      },
      "outputs": [
        {
          "name": "stdout",
          "output_type": "stream",
          "text": [
            "Original y tensor([[[[ 1,  2],\n",
            "          [ 3,  4],\n",
            "          [ 5,  6]]],\n",
            "\n",
            "\n",
            "        [[[ 7,  8],\n",
            "          [ 9, 10],\n",
            "          [11, 12]]],\n",
            "\n",
            "\n",
            "        [[[13, 14],\n",
            "          [15, 16],\n",
            "          [17, 18]]]]) \n",
            "\n",
            "torch.Size([3, 1, 3, 2]) tensor([[[ 1,  2],\n",
            "         [ 3,  4],\n",
            "         [ 5,  6]],\n",
            "\n",
            "        [[ 7,  8],\n",
            "         [ 9, 10],\n",
            "         [11, 12]],\n",
            "\n",
            "        [[13, 14],\n",
            "         [15, 16],\n",
            "         [17, 18]]]) torch.Size([3, 3, 2])\n",
            "\n",
            "Unsqueezing\n",
            "tensor([[[[ 1,  2],\n",
            "          [ 3,  4],\n",
            "          [ 5,  6]]],\n",
            "\n",
            "\n",
            "        [[[ 7,  8],\n",
            "          [ 9, 10],\n",
            "          [11, 12]]],\n",
            "\n",
            "\n",
            "        [[[13, 14],\n",
            "          [15, 16],\n",
            "          [17, 18]]]]) torch.Size([3, 1, 3, 2])\n"
          ]
        }
      ],
      "source": [
        "## squeeze and unsqueeze\n",
        "y = torch.arange(1 , 19 , 1)\n",
        "y = y.reshape(3 , 1 ,3 ,2)\n",
        "print(\"Original y\" , y , \"\\n\")\n",
        "y_squeezed = torch.squeeze(y )\n",
        "print(y.shape ,y_squeezed , y_squeezed.shape)\n",
        "\n",
        "## unsqueeze\n",
        "print(\"\\nUnsqueezing\")\n",
        "y_unsqueezed = torch.unsqueeze(y_squeezed , 1 )\n",
        "print(y_unsqueezed , y_unsqueezed.shape)"
      ]
    },
    {
      "cell_type": "code",
      "execution_count": null,
      "metadata": {
        "colab": {
          "base_uri": "https://localhost:8080/"
        },
        "id": "78oUcI7lHcG-",
        "outputId": "07148139-e4a4-4188-e346-8ce464eaae26"
      },
      "outputs": [
        {
          "name": "stdout",
          "output_type": "stream",
          "text": [
            "tensor([[[[ 1,  2],\n",
            "          [ 7,  8],\n",
            "          [13, 14]],\n",
            "\n",
            "         [[ 3,  4],\n",
            "          [ 9, 10],\n",
            "          [15, 16]],\n",
            "\n",
            "         [[ 5,  6],\n",
            "          [11, 12],\n",
            "          [17, 18]]]]) torch.Size([1, 3, 3, 2])\n"
          ]
        }
      ],
      "source": [
        "## permute\n",
        "## returns a view ie  share the memory\n",
        "\"[3, 1, 3, 2]\"\n",
        "y_2 = y_unsqueezed\n",
        "\n",
        "y_permute = y_2.permute(1 , -2 , 0 , -1)\n",
        "print(y_permute , y_permute.shape)\n"
      ]
    },
    {
      "cell_type": "code",
      "execution_count": null,
      "metadata": {
        "colab": {
          "base_uri": "https://localhost:8080/"
        },
        "id": "Rc3kGb1THcJy",
        "outputId": "3838f632-de69-4ce2-da4d-f496364a5c5d"
      },
      "outputs": [
        {
          "data": {
            "text/plain": [
              "(torch.Size([3, 1, 3, 2]), torch.Size([1, 3, 3, 2]))"
            ]
          },
          "execution_count": 214,
          "metadata": {},
          "output_type": "execute_result"
        }
      ],
      "source": [
        "y_2.shape , y_permute.shape"
      ]
    },
    {
      "cell_type": "code",
      "execution_count": null,
      "metadata": {
        "id": "2awqznhRHcMs"
      },
      "outputs": [],
      "source": [
        "#### Indexing"
      ]
    },
    {
      "cell_type": "code",
      "execution_count": 1,
      "metadata": {
        "id": "IdPiH2P6HcPd"
      },
      "outputs": [],
      "source": [
        "import torch"
      ]
    },
    {
      "cell_type": "code",
      "execution_count": 5,
      "metadata": {
        "colab": {
          "base_uri": "https://localhost:8080/"
        },
        "id": "zgeCX3SeHcSo",
        "outputId": "c8dc1042-9365-402b-f37e-2b2805a014b2"
      },
      "outputs": [
        {
          "name": "stdout",
          "output_type": "stream",
          "text": [
            "tensor([[[ 1,  2,  3],\n",
            "         [ 4,  5,  6],\n",
            "         [ 7,  8,  9],\n",
            "         [10, 11, 12]],\n",
            "\n",
            "        [[13, 14, 15],\n",
            "         [16, 17, 18],\n",
            "         [19, 20, 21],\n",
            "         [22, 23, 24]],\n",
            "\n",
            "        [[25, 26, 27],\n",
            "         [28, 29, 30],\n",
            "         [31, 32, 33],\n",
            "         [34, 35, 36]],\n",
            "\n",
            "        [[37, 38, 39],\n",
            "         [40, 41, 42],\n",
            "         [43, 44, 45],\n",
            "         [46, 47, 48]],\n",
            "\n",
            "        [[49, 50, 51],\n",
            "         [52, 53, 54],\n",
            "         [55, 56, 57],\n",
            "         [58, 59, 60]]])\n",
            "\n",
            " torch.Size([5, 4, 3])\n"
          ]
        }
      ],
      "source": [
        "x = torch.arange(1 , 61 , 1)\n",
        "x = x.reshape(5 , 4, 3)\n",
        "print(x)\n",
        "print(\"\\n\" , x.shape)"
      ]
    },
    {
      "cell_type": "code",
      "execution_count": 11,
      "metadata": {
        "colab": {
          "base_uri": "https://localhost:8080/"
        },
        "id": "qHHgE_I7HcWU",
        "outputId": "0b6e3edb-6253-45c5-a067-783140e00abc"
      },
      "outputs": [
        {
          "data": {
            "text/plain": [
              "True"
            ]
          },
          "execution_count": 11,
          "metadata": {},
          "output_type": "execute_result"
        }
      ],
      "source": [
        "[51 , 54] == list(x[4,0:2,-1])"
      ]
    },
    {
      "cell_type": "code",
      "execution_count": 10,
      "metadata": {
        "colab": {
          "base_uri": "https://localhost:8080/"
        },
        "id": "MtYRiOYdHcZZ",
        "outputId": "e838e59c-28eb-492f-cc6c-3ac6c691a937"
      },
      "outputs": [
        {
          "name": "stdout",
          "output_type": "stream",
          "text": [
            "tensor([51, 54])\n"
          ]
        }
      ],
      "source": [
        "print(x[0:2,0:2,-1])"
      ]
    },
    {
      "cell_type": "markdown",
      "metadata": {
        "id": "hkclSriGHccp"
      },
      "source": [
        "### pythorch tensors and numpy\n",
        "\n",
        "* numpy -> torch\n",
        "\n",
        "`torch.from_numpy(ndarray)`\n",
        "\n",
        "* torch -> numpy\n",
        "\n",
        "`torch.Tensor.numpy() `\n",
        "\n",
        "* make sure to track the dtype ,\n",
        "\n",
        "* the new tennsor is created in diffrent memory\n"
      ]
    },
    {
      "cell_type": "code",
      "execution_count": 12,
      "metadata": {
        "id": "neHYqJ2PHcgf"
      },
      "outputs": [],
      "source": [
        "import numpy as np\n"
      ]
    },
    {
      "cell_type": "code",
      "execution_count": 24,
      "metadata": {
        "colab": {
          "base_uri": "https://localhost:8080/"
        },
        "id": "TWSk2DHXldfy",
        "outputId": "d7e3d28e-9282-49b8-dac6-07611b135c75"
      },
      "outputs": [
        {
          "data": {
            "text/plain": [
              "(torch.float32, dtype('float32'))"
            ]
          },
          "execution_count": 24,
          "metadata": {},
          "output_type": "execute_result"
        }
      ],
      "source": [
        "### make sure to track the dtype , the new tennsor is created in diffrent memory\n",
        "array = np.arange(1 , 11 , 1)\n",
        "tensor_1 = torch.from_numpy(array)\n",
        "new_array = array.reshape(2 , 5)\n",
        "new_array = new_array.astype(np.float32) ## changing the dytpe of the numpy\n",
        "tensor_2 = torch.from_numpy(new_array)\n",
        "\n",
        "tensor_2.dtype , new_array.dtype"
      ]
    },
    {
      "cell_type": "code",
      "execution_count": 30,
      "metadata": {
        "colab": {
          "base_uri": "https://localhost:8080/"
        },
        "id": "oBZW4OLsldib",
        "outputId": "44f1379e-e53d-457f-d2f2-d1dd33ce4529"
      },
      "outputs": [
        {
          "data": {
            "text/plain": [
              "dtype('float64')"
            ]
          },
          "execution_count": 30,
          "metadata": {},
          "output_type": "execute_result"
        }
      ],
      "source": [
        "numpy_array = (x.type(torch.float64)).numpy()\n",
        "numpy_array.dtype"
      ]
    },
    {
      "cell_type": "markdown",
      "metadata": {
        "id": "jHKB0T0HHcju"
      },
      "source": [
        "#### Reproducbility (trying to take random out of random)\n",
        "\n",
        "To reduce randomness we use the concept of random seed as there is no true randomness in cs"
      ]
    },
    {
      "cell_type": "code",
      "execution_count": 31,
      "metadata": {
        "colab": {
          "base_uri": "https://localhost:8080/"
        },
        "id": "joaLDK9An9WE",
        "outputId": "1d0a5671-9560-48f3-e508-7f8bfa623bef"
      },
      "outputs": [
        {
          "name": "stdout",
          "output_type": "stream",
          "text": [
            "tensor([[True, True, True],\n",
            "        [True, True, True],\n",
            "        [True, True, True]])\n"
          ]
        }
      ],
      "source": [
        "seed = 24\n",
        "\n",
        "## set the seed\n",
        "## for each instace initiated set the random seed\n",
        "torch.manual_seed(seed)\n",
        "random_tensor_1 = torch.rand(3 , 3)\n",
        "torch.manual_seed(seed)\n",
        "random_tensor_2 = torch.rand(3 , 3)\n",
        "\n",
        "print(random_tensor_1 == random_tensor_2)"
      ]
    },
    {
      "cell_type": "code",
      "execution_count": null,
      "metadata": {
        "id": "tWV6k9z9n9ZA"
      },
      "outputs": [],
      "source": []
    },
    {
      "cell_type": "markdown",
      "metadata": {
        "id": "TGOzZS1fn9bx"
      },
      "source": [
        "### ***Using gpu***"
      ]
    },
    {
      "cell_type": "code",
      "execution_count": 2,
      "metadata": {
        "colab": {
          "base_uri": "https://localhost:8080/"
        },
        "id": "GdbsWNUun9ed",
        "outputId": "d19e780d-f737-41fa-8853-40727dce2c6f"
      },
      "outputs": [
        {
          "name": "stdout",
          "output_type": "stream",
          "text": [
            "Tue Feb 13 18:26:42 2024       \n",
            "+---------------------------------------------------------------------------------------+\n",
            "| NVIDIA-SMI 535.104.05             Driver Version: 535.104.05   CUDA Version: 12.2     |\n",
            "|-----------------------------------------+----------------------+----------------------+\n",
            "| GPU  Name                 Persistence-M | Bus-Id        Disp.A | Volatile Uncorr. ECC |\n",
            "| Fan  Temp   Perf          Pwr:Usage/Cap |         Memory-Usage | GPU-Util  Compute M. |\n",
            "|                                         |                      |               MIG M. |\n",
            "|=========================================+======================+======================|\n",
            "|   0  Tesla T4                       Off | 00000000:00:04.0 Off |                    0 |\n",
            "| N/A   66C    P8              11W /  70W |      3MiB / 15360MiB |      0%      Default |\n",
            "|                                         |                      |                  N/A |\n",
            "+-----------------------------------------+----------------------+----------------------+\n",
            "                                                                                         \n",
            "+---------------------------------------------------------------------------------------+\n",
            "| Processes:                                                                            |\n",
            "|  GPU   GI   CI        PID   Type   Process name                            GPU Memory |\n",
            "|        ID   ID                                                             Usage      |\n",
            "|=======================================================================================|\n",
            "|  No running processes found                                                           |\n",
            "+---------------------------------------------------------------------------------------+\n"
          ]
        }
      ],
      "source": [
        "!nvidia-smi"
      ]
    },
    {
      "cell_type": "code",
      "execution_count": 1,
      "metadata": {
        "colab": {
          "base_uri": "https://localhost:8080/"
        },
        "id": "qHCH7loVn9hO",
        "outputId": "64025b06-525a-4892-8a80-a6a1053d57a6"
      },
      "outputs": [
        {
          "name": "stdout",
          "output_type": "stream",
          "text": [
            "True\n"
          ]
        }
      ],
      "source": [
        "## check for gpu access\n",
        "\n",
        "import torch\n",
        "print(torch.cuda.is_available())"
      ]
    },
    {
      "cell_type": "code",
      "execution_count": 3,
      "metadata": {
        "colab": {
          "base_uri": "https://localhost:8080/",
          "height": 35
        },
        "id": "lCDEh_lDnoEC",
        "outputId": "543d4346-7fc4-43b9-f871-9e9d9de4e389"
      },
      "outputs": [
        {
          "data": {
            "application/vnd.google.colaboratory.intrinsic+json": {
              "type": "string"
            },
            "text/plain": [
              "'cuda'"
            ]
          },
          "execution_count": 3,
          "metadata": {},
          "output_type": "execute_result"
        }
      ],
      "source": [
        "## set up Device agnostic true\n",
        "device = 'cuda' if torch.cuda.is_available() else 'cpu'\n",
        "device"
      ]
    },
    {
      "cell_type": "code",
      "execution_count": 4,
      "metadata": {
        "colab": {
          "base_uri": "https://localhost:8080/"
        },
        "id": "dJzx7gNcnoNf",
        "outputId": "6ec7a5e5-c32d-47bb-a180-9b96a00c4335"
      },
      "outputs": [
        {
          "data": {
            "text/plain": [
              "1"
            ]
          },
          "execution_count": 4,
          "metadata": {},
          "output_type": "execute_result"
        }
      ],
      "source": [
        "## count gpu\n",
        "torch.cuda.device_count()"
      ]
    },
    {
      "cell_type": "markdown",
      "metadata": {
        "id": "rCh1qtbgnobD"
      },
      "source": [
        "## putting tensors and models on gpu"
      ]
    },
    {
      "cell_type": "code",
      "execution_count": 7,
      "metadata": {
        "id": "T4pKsdP2nond"
      },
      "outputs": [],
      "source": [
        "tensor = torch.tensor([1 , 3 , 5, 6])"
      ]
    },
    {
      "cell_type": "code",
      "execution_count": 11,
      "metadata": {
        "colab": {
          "base_uri": "https://localhost:8080/"
        },
        "id": "xkkfvuizno0o",
        "outputId": "9b62caf3-55e0-4df6-db6c-ac858dd0b7d0"
      },
      "outputs": [
        {
          "name": "stdout",
          "output_type": "stream",
          "text": [
            "cpu\n",
            "cuda:0\n"
          ]
        }
      ],
      "source": [
        "print(tensor.device)\n",
        "tensor= tensor.to(device)\n",
        "print(tensor.device)"
      ]
    },
    {
      "cell_type": "markdown",
      "metadata": {
        "id": "ED0r8SSLHcnj"
      },
      "source": [
        "#### Numpy and gpu\n",
        "for convertiing tensors to numpy on gpu you have to change the tensor to cpu device and trhen convert it later\n"
      ]
    },
    {
      "cell_type": "code",
      "execution_count": 15,
      "metadata": {
        "colab": {
          "base_uri": "https://localhost:8080/"
        },
        "id": "5H4r7slvvSfe",
        "outputId": "13a11eeb-a26c-436c-b45a-89018b6ed22f"
      },
      "outputs": [
        {
          "data": {
            "text/plain": [
              "array([1, 3, 5, 6])"
            ]
          },
          "execution_count": 15,
          "metadata": {},
          "output_type": "execute_result"
        }
      ],
      "source": [
        "numpy_tensor = tensor.cpu().numpy()\n",
        "numpy_tensor\n"
      ]
    },
    {
      "cell_type": "code",
      "execution_count": null,
      "metadata": {
        "id": "MGIUKnh7vqbj"
      },
      "outputs": [],
      "source": []
    }
  ],
  "metadata": {
    "accelerator": "GPU",
    "colab": {
      "gpuType": "T4",
      "provenance": []
    },
    "kernelspec": {
      "display_name": "Python 3",
      "name": "python3"
    },
    "language_info": {
      "codemirror_mode": {
        "name": "ipython",
        "version": 3
      },
      "file_extension": ".py",
      "mimetype": "text/x-python",
      "name": "python",
      "nbconvert_exporter": "python",
      "pygments_lexer": "ipython3",
      "version": "3.11.5"
    }
  },
  "nbformat": 4,
  "nbformat_minor": 0
}
